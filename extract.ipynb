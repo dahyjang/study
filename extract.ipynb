{
 "cells": [
  {
   "cell_type": "code",
   "execution_count": 7,
   "metadata": {},
   "outputs": [
    {
     "name": "stderr",
     "output_type": "stream",
     "text": [
      "Copying TIF files: 100%|██████████| 99/99 [06:31<00:00,  3.96s/it]\n"
     ]
    }
   ],
   "source": [
    "import os\n",
    "import pandas as pd\n",
    "import shutil\n",
    "from tqdm import tqdm\n",
    "\n",
    "# CSV 파일 경로 및 읽어올 컬럼 이름 지정\n",
    "csv_file_path = '/media/innopam/GeoAI/Merge_AE/grid/mapid_no.csv'\n",
    "column_name = 'MAPIDCD_NO'  # 도엽번호 열 이름\n",
    "\n",
    "# TIF 파일이 있는 디렉토리 경로 지정\n",
    "tif_directory_path = '/media/innopam/GeoAI/04.Grid_Image/AE_2020_12/AE_2020_12_tif'\n",
    "\n",
    "# 결과를 저장할 디렉토리 경로 지정\n",
    "output_directory_path = '/media/innopam/GeoAI/Merge_AE/grid2020'\n",
    "\n",
    "# CSV 파일 읽기\n",
    "df = pd.read_csv(csv_file_path)\n",
    "\n",
    "# tqdm을 사용하여 진행 상황을 시각화\n",
    "for index, row in tqdm(df.iterrows(), total=len(df), desc=\"Copying TIF files\"):\n",
    "    doepno = str(row[column_name])[:9]  # 도엽번호 앞 9글자 추출\n",
    "    tif_file_name = f'{doepno}_AE_2020_12.tif'\n",
    "    tif_file_path = os.path.join(tif_directory_path, tif_file_name)\n",
    "    \n",
    "    # 해당하는 TIF 파일이 있는지 확인하고 있으면 결과 디렉토리로 이동\n",
    "    if os.path.exists(tif_file_path):\n",
    "        output_file_path = os.path.join(output_directory_path, tif_file_name)\n",
    "        shutil.copy(tif_file_path, output_file_path)\n",
    "    else:\n",
    "        print(f'{tif_file_name} 파일을 찾을 수 없습니다.')"
   ]
  },
  {
   "cell_type": "code",
   "execution_count": 13,
   "metadata": {},
   "outputs": [],
   "source": [
    "#merge code\n",
    "import os\n",
    "import glob\n",
    "from rasterio.merge import merge\n",
    "from rasterio import open as rio_open\n",
    "\n",
    "def merge_all_images(input_folder, output_path):\n",
    "    # 폴더 내의 모든 이미지 파일 경로 가져오기\n",
    "    image_paths = glob.glob(os.path.join(input_folder, '*.tif'))\n",
    "\n",
    "    # 이미지 파일이 없으면 에러 메시지 출력\n",
    "    if not image_paths:\n",
    "        print(\"Error: No TIFF files found in the specified folder.\")\n",
    "        return\n",
    "\n",
    "    # 이미지 열기\n",
    "    src_files_to_mosaic = [rio_open(image_path) for image_path in image_paths]\n",
    "\n",
    "    # 이미지 병합\n",
    "    mosaic, out_trans = merge(src_files_to_mosaic)\n",
    "\n",
    "    # 병합된 이미지의 메타데이터 설정\n",
    "    out_meta = src_files_to_mosaic[0].meta.copy()\n",
    "    out_meta.update({\"driver\": \"GTiff\",\n",
    "                     \"height\": mosaic.shape[1],\n",
    "                     \"width\": mosaic.shape[2],\n",
    "                     \"transform\": out_trans})\n",
    "\n",
    "    # 병합된 이미지 저장\n",
    "    with rio_open(output_path, \"w\", **out_meta) as dest:\n",
    "        dest.write(mosaic)\n",
    "\n",
    "# 예제 사용법\n",
    "input_folder = '/media/innopam/GeoAI/Merge_AE/grid2020'  # 이미지가 있는 폴더 경로\n",
    "output_path = '/media/innopam/GeoAI/Merge_AE/grid2020/merged_image_2020.tif'  # 병합된 이미지 저장 경로\n",
    "\n",
    "merge_all_images(input_folder, output_path)\n"
   ]
  },
  {
   "cell_type": "code",
   "execution_count": 1,
   "metadata": {},
   "outputs": [
    {
     "name": "stderr",
     "output_type": "stream",
     "text": [
      "Writing Merged Image: 100%|██████████| 3/3 [00:39<00:00, 13.21s/it]\n"
     ]
    }
   ],
   "source": [
    "import os\n",
    "import glob\n",
    "from rasterio.merge import merge\n",
    "from rasterio import open as rio_open\n",
    "from tqdm import tqdm  # Import tqdm for the progress bar\n",
    "\n",
    "def merge_all_images(input_folder, output_path):\n",
    "    # 폴더 내의 모든 이미지 파일 경로 가져오기\n",
    "    image_paths = glob.glob(os.path.join(input_folder, '*.tif'))\n",
    "\n",
    "    # 이미지 파일이 없으면 에러 메시지 출력\n",
    "    if not image_paths:\n",
    "        print(\"Error: No TIFF files found in the specified folder.\")\n",
    "        return\n",
    "\n",
    "    # 이미지 열기\n",
    "    src_files_to_mosaic = [rio_open(image_path) for image_path in image_paths]\n",
    "\n",
    "    # 이미지 병합\n",
    "    mosaic, out_trans = merge(src_files_to_mosaic)\n",
    "\n",
    "    # 병합된 이미지의 메타데이터 설정\n",
    "    out_meta = src_files_to_mosaic[0].meta.copy()\n",
    "    out_meta.update({\"driver\": \"GTiff\",\n",
    "                     \"height\": mosaic.shape[1],\n",
    "                     \"width\": mosaic.shape[2],\n",
    "                     \"transform\": out_trans})\n",
    "\n",
    "    # 병합된 이미지 저장\n",
    "    with rio_open(output_path, \"w\", **out_meta) as dest:\n",
    "        # Use tqdm for progress bar\n",
    "        for i in tqdm(range(mosaic.shape[0]), desc='Writing Merged Image'):\n",
    "            dest.write(mosaic[i], indexes=i+1)\n",
    "\n",
    "# 예제 사용법\n",
    "input_folder = '/media/innopam/GeoAI/Merge_AE/grid2020'  # 이미지가 있는 폴더 경로\n",
    "output_path = '/media/innopam/GeoAI/Merge_AE/grid2020/merged_image_2020.tif'  # 병합된 이미지 저장 경로\n",
    "\n",
    "merge_all_images(input_folder, output_path)\n"
   ]
  },
  {
   "cell_type": "code",
   "execution_count": 1,
   "metadata": {},
   "outputs": [
    {
     "name": "stderr",
     "output_type": "stream",
     "text": [
      "ERROR 1: PROJ: internal_proj_create_from_database: /home/innopam/anaconda3/envs/geospatial/share/proj/proj.db lacks DATABASE.LAYOUT.VERSION.MAJOR / DATABASE.LAYOUT.VERSION.MINOR metadata. It comes from another PROJ installation.\n"
     ]
    },
    {
     "ename": "CRSError",
     "evalue": "The EPSG code is unknown. PROJ: internal_proj_create_from_database: /home/innopam/anaconda3/envs/geospatial/share/proj/proj.db lacks DATABASE.LAYOUT.VERSION.MAJOR / DATABASE.LAYOUT.VERSION.MINOR metadata. It comes from another PROJ installation.",
     "output_type": "error",
     "traceback": [
      "\u001b[0;31m---------------------------------------------------------------------------\u001b[0m",
      "\u001b[0;31mCPLE_AppDefinedError\u001b[0m                      Traceback (most recent call last)",
      "File \u001b[0;32mrasterio/crs.pyx:586\u001b[0m, in \u001b[0;36mrasterio.crs.CRS.from_epsg\u001b[0;34m()\u001b[0m\n",
      "File \u001b[0;32mrasterio/_err.pyx:195\u001b[0m, in \u001b[0;36mrasterio._err.exc_wrap_int\u001b[0;34m()\u001b[0m\n",
      "\u001b[0;31mCPLE_AppDefinedError\u001b[0m: PROJ: internal_proj_create_from_database: /home/innopam/anaconda3/envs/geospatial/share/proj/proj.db lacks DATABASE.LAYOUT.VERSION.MAJOR / DATABASE.LAYOUT.VERSION.MINOR metadata. It comes from another PROJ installation.",
      "\nDuring handling of the above exception, another exception occurred:\n",
      "\u001b[0;31mCRSError\u001b[0m                                  Traceback (most recent call last)",
      "\u001b[1;32m/media/innopam/GeoAI/Merge_AE/extract_grid/extract.ipynb 셀 4\u001b[0m line \u001b[0;36m4\n\u001b[1;32m     <a href='vscode-notebook-cell://ssh-remote%2B192.168.10.201/media/innopam/GeoAI/Merge_AE/extract_grid/extract.ipynb#W3sdnNjb2RlLXJlbW90ZQ%3D%3D?line=37'>38</a>\u001b[0m input_folder \u001b[39m=\u001b[39m \u001b[39m'\u001b[39m\u001b[39m/media/innopam/GeoAI/Merge_AE/grid2020\u001b[39m\u001b[39m'\u001b[39m  \u001b[39m# 이미지가 있는 폴더 경로\u001b[39;00m\n\u001b[1;32m     <a href='vscode-notebook-cell://ssh-remote%2B192.168.10.201/media/innopam/GeoAI/Merge_AE/extract_grid/extract.ipynb#W3sdnNjb2RlLXJlbW90ZQ%3D%3D?line=38'>39</a>\u001b[0m output_path \u001b[39m=\u001b[39m \u001b[39m'\u001b[39m\u001b[39m/media/innopam/GeoAI/Merge_AE/grid2020/merged_image_2020.tif\u001b[39m\u001b[39m'\u001b[39m  \u001b[39m# 병합된 이미지 저장 경로\u001b[39;00m\n\u001b[0;32m---> <a href='vscode-notebook-cell://ssh-remote%2B192.168.10.201/media/innopam/GeoAI/Merge_AE/extract_grid/extract.ipynb#W3sdnNjb2RlLXJlbW90ZQ%3D%3D?line=40'>41</a>\u001b[0m merge_all_images(input_folder, output_path)\n",
      "\u001b[1;32m/media/innopam/GeoAI/Merge_AE/extract_grid/extract.ipynb 셀 4\u001b[0m line \u001b[0;36m2\n\u001b[1;32m     <a href='vscode-notebook-cell://ssh-remote%2B192.168.10.201/media/innopam/GeoAI/Merge_AE/extract_grid/extract.ipynb#W3sdnNjb2RlLXJlbW90ZQ%3D%3D?line=22'>23</a>\u001b[0m \u001b[39m# 병합된 이미지의 메타데이터 설정\u001b[39;00m\n\u001b[1;32m     <a href='vscode-notebook-cell://ssh-remote%2B192.168.10.201/media/innopam/GeoAI/Merge_AE/extract_grid/extract.ipynb#W3sdnNjb2RlLXJlbW90ZQ%3D%3D?line=23'>24</a>\u001b[0m out_meta \u001b[39m=\u001b[39m src_files_to_mosaic[\u001b[39m0\u001b[39m]\u001b[39m.\u001b[39mmeta\u001b[39m.\u001b[39mcopy()\n\u001b[1;32m     <a href='vscode-notebook-cell://ssh-remote%2B192.168.10.201/media/innopam/GeoAI/Merge_AE/extract_grid/extract.ipynb#W3sdnNjb2RlLXJlbW90ZQ%3D%3D?line=24'>25</a>\u001b[0m out_meta\u001b[39m.\u001b[39mupdate({\u001b[39m\"\u001b[39m\u001b[39mdriver\u001b[39m\u001b[39m\"\u001b[39m: \u001b[39m\"\u001b[39m\u001b[39mGTiff\u001b[39m\u001b[39m\"\u001b[39m,\n\u001b[1;32m     <a href='vscode-notebook-cell://ssh-remote%2B192.168.10.201/media/innopam/GeoAI/Merge_AE/extract_grid/extract.ipynb#W3sdnNjb2RlLXJlbW90ZQ%3D%3D?line=25'>26</a>\u001b[0m                  \u001b[39m\"\u001b[39m\u001b[39mheight\u001b[39m\u001b[39m\"\u001b[39m: mosaic\u001b[39m.\u001b[39mshape[\u001b[39m1\u001b[39m],\n\u001b[1;32m     <a href='vscode-notebook-cell://ssh-remote%2B192.168.10.201/media/innopam/GeoAI/Merge_AE/extract_grid/extract.ipynb#W3sdnNjb2RlLXJlbW90ZQ%3D%3D?line=26'>27</a>\u001b[0m                  \u001b[39m\"\u001b[39m\u001b[39mwidth\u001b[39m\u001b[39m\"\u001b[39m: mosaic\u001b[39m.\u001b[39mshape[\u001b[39m2\u001b[39m],\n\u001b[1;32m     <a href='vscode-notebook-cell://ssh-remote%2B192.168.10.201/media/innopam/GeoAI/Merge_AE/extract_grid/extract.ipynb#W3sdnNjb2RlLXJlbW90ZQ%3D%3D?line=27'>28</a>\u001b[0m                  \u001b[39m\"\u001b[39m\u001b[39mtransform\u001b[39m\u001b[39m\"\u001b[39m: out_trans,\n\u001b[0;32m---> <a href='vscode-notebook-cell://ssh-remote%2B192.168.10.201/media/innopam/GeoAI/Merge_AE/extract_grid/extract.ipynb#W3sdnNjb2RlLXJlbW90ZQ%3D%3D?line=28'>29</a>\u001b[0m                  \u001b[39m\"\u001b[39m\u001b[39mcrs\u001b[39m\u001b[39m\"\u001b[39m: CRS\u001b[39m.\u001b[39;49mfrom_epsg(\u001b[39m5179\u001b[39;49m)})  \u001b[39m# Set CRS to EPSG 5179\u001b[39;00m\n\u001b[1;32m     <a href='vscode-notebook-cell://ssh-remote%2B192.168.10.201/media/innopam/GeoAI/Merge_AE/extract_grid/extract.ipynb#W3sdnNjb2RlLXJlbW90ZQ%3D%3D?line=30'>31</a>\u001b[0m \u001b[39m# 병합된 이미지 저장\u001b[39;00m\n\u001b[1;32m     <a href='vscode-notebook-cell://ssh-remote%2B192.168.10.201/media/innopam/GeoAI/Merge_AE/extract_grid/extract.ipynb#W3sdnNjb2RlLXJlbW90ZQ%3D%3D?line=31'>32</a>\u001b[0m \u001b[39mwith\u001b[39;00m rio_open(output_path, \u001b[39m\"\u001b[39m\u001b[39mw\u001b[39m\u001b[39m\"\u001b[39m, \u001b[39m*\u001b[39m\u001b[39m*\u001b[39mout_meta) \u001b[39mas\u001b[39;00m dest:\n\u001b[1;32m     <a href='vscode-notebook-cell://ssh-remote%2B192.168.10.201/media/innopam/GeoAI/Merge_AE/extract_grid/extract.ipynb#W3sdnNjb2RlLXJlbW90ZQ%3D%3D?line=32'>33</a>\u001b[0m     \u001b[39m# Use tqdm for progress bar\u001b[39;00m\n",
      "File \u001b[0;32mrasterio/crs.pyx:590\u001b[0m, in \u001b[0;36mrasterio.crs.CRS.from_epsg\u001b[0;34m()\u001b[0m\n",
      "\u001b[0;31mCRSError\u001b[0m: The EPSG code is unknown. PROJ: internal_proj_create_from_database: /home/innopam/anaconda3/envs/geospatial/share/proj/proj.db lacks DATABASE.LAYOUT.VERSION.MAJOR / DATABASE.LAYOUT.VERSION.MINOR metadata. It comes from another PROJ installation."
     ]
    }
   ],
   "source": [
    "import os\n",
    "import glob\n",
    "from rasterio.merge import merge\n",
    "from rasterio import open as rio_open\n",
    "from rasterio.crs import CRS\n",
    "from tqdm import tqdm\n",
    "\n",
    "def merge_all_images(input_folder, output_path):\n",
    "    # 폴더 내의 모든 이미지 파일 경로 가져오기\n",
    "    image_paths = glob.glob(os.path.join(input_folder, '*.tif'))\n",
    "\n",
    "    # 이미지 파일이 없으면 에러 메시지 출력\n",
    "    if not image_paths:\n",
    "        print(\"Error: No TIFF files found in the specified folder.\")\n",
    "        return\n",
    "\n",
    "    # 이미지 열기\n",
    "    src_files_to_mosaic = [rio_open(image_path) for image_path in image_paths]\n",
    "\n",
    "    # 이미지 병합\n",
    "    mosaic, out_trans = merge(src_files_to_mosaic)\n",
    "\n",
    "    # 병합된 이미지의 메타데이터 설정\n",
    "    out_meta = src_files_to_mosaic[0].meta.copy()\n",
    "    out_meta.update({\"driver\": \"GTiff\",\n",
    "                     \"height\": mosaic.shape[1],\n",
    "                     \"width\": mosaic.shape[2],\n",
    "                     \"transform\": out_trans,\n",
    "                     \"crs\": CRS.from_epsg(5179)})  # Set CRS to EPSG 5179\n",
    "\n",
    "    # 병합된 이미지 저장\n",
    "    with rio_open(output_path, \"w\", **out_meta) as dest:\n",
    "        # Use tqdm for progress bar\n",
    "        for i in tqdm(range(mosaic.shape[0]), desc='Writing Merged Image'):\n",
    "            dest.write(mosaic[i], indexes=i+1)\n",
    "\n",
    "# 예제 사용법\n",
    "input_folder = '/media/innopam/GeoAI/Merge_AE/grid2020'  # 이미지가 있는 폴더 경로\n",
    "output_path = '/media/innopam/GeoAI/Merge_AE/grid2020/merged_image_2020.tif'  # 병합된 이미지 저장 경로\n",
    "\n",
    "merge_all_images(input_folder, output_path)\n"
   ]
  }
 ],
 "metadata": {
  "kernelspec": {
   "display_name": "geospatial",
   "language": "python",
   "name": "python3"
  },
  "language_info": {
   "codemirror_mode": {
    "name": "ipython",
    "version": 3
   },
   "file_extension": ".py",
   "mimetype": "text/x-python",
   "name": "python",
   "nbconvert_exporter": "python",
   "pygments_lexer": "ipython3",
   "version": "3.9.18"
  }
 },
 "nbformat": 4,
 "nbformat_minor": 2
}
